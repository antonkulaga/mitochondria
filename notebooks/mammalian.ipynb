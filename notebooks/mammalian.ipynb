{
 "cells": [
  {
   "cell_type": "markdown",
   "source": [
    "# Mitochondria\n",
    "\n",
    "Analysis for mitochondria proposals"
   ],
   "metadata": {
    "collapsed": false
   },
   "id": "d37a6d62b2c2d2d9"
  },
  {
   "cell_type": "code",
   "execution_count": 1,
   "outputs": [
    {
     "name": "stdout",
     "output_type": "stream",
     "text": [
      "extending pathes with local indexpaper\n",
      "['..', '/home/antonkulaga/sources/mitochondria/notebooks', '/home/antonkulaga/sources/mitochondria', '/home/antonkulaga/micromamba/envs/mitochondria/lib/python310.zip', '/home/antonkulaga/micromamba/envs/mitochondria/lib/python3.10', '/home/antonkulaga/micromamba/envs/mitochondria/lib/python3.10/lib-dynload', '', '/home/antonkulaga/.local/lib/python3.10/site-packages', '/home/antonkulaga/micromamba/envs/mitochondria/lib/python3.10/site-packages']\n"
     ]
    }
   ],
   "source": [
    "from pathlib import Path\n",
    "import sys\n",
    "\n",
    "from plotly.graph_objs import Figure\n",
    "\n",
    "debug_local = True#False\n",
    "local = (Path(\"..\") / \"mitochondria\").resolve()\n",
    "if debug_local and local.exists():\n",
    "    sys.path.insert(0, Path(\"..\").as_posix())\n",
    "    print(\"extending pathes with local indexpaper\")\n",
    "    print(sys.path)\n",
    "    %load_ext autoreload\n",
    "    %autoreload 2"
   ],
   "metadata": {
    "collapsed": false,
    "ExecuteTime": {
     "end_time": "2023-09-10T19:03:13.121639505Z",
     "start_time": "2023-09-10T19:03:13.096593053Z"
    }
   },
   "id": "99e0a734f9d488c8"
  },
  {
   "cell_type": "code",
   "execution_count": 2,
   "outputs": [
    {
     "data": {
      "text/plain": "PosixPath('../data/mammals')"
     },
     "execution_count": 2,
     "metadata": {},
     "output_type": "execute_result"
    }
   ],
   "source": [
    "from pycomfort.files import *\n",
    "base = Path(\"..\")\n",
    "data = base / \"data\"\n",
    "mammals = data / \"mammals\"\n",
    "mammals"
   ],
   "metadata": {
    "collapsed": false,
    "ExecuteTime": {
     "end_time": "2023-09-10T19:03:13.776774071Z",
     "start_time": "2023-09-10T19:03:13.240634758Z"
    }
   },
   "id": "6279dc537db26346"
  },
  {
   "cell_type": "code",
   "execution_count": 3,
   "outputs": [
    {
     "name": "stdout",
     "output_type": "stream",
     "text": [
      "mammals\n",
      "\tMacaca_mulatta.Mmul_10.dna_rm.primary_assembly.MT.fa\n",
      "\tPan_troglodytes.Pan_tro_3.0.dna.chromosome.MT.fa\n",
      "\tGorilla_gorilla.gorGor4.dna.chromosome.MT.fa\n",
      "\tHomo_sapiens.GRCh38.dna.chromosome.MT.fa\n"
     ]
    }
   ],
   "source": [
    "tprint(mammals)"
   ],
   "metadata": {
    "collapsed": false,
    "ExecuteTime": {
     "end_time": "2023-09-10T19:03:16.360454762Z",
     "start_time": "2023-09-10T19:03:16.306448724Z"
    }
   },
   "id": "99c5b5c5abd7f962"
  },
  {
   "cell_type": "markdown",
   "source": [
    "# MSA"
   ],
   "metadata": {
    "collapsed": false
   },
   "id": "e555bb00b9686cdd"
  },
  {
   "cell_type": "code",
   "execution_count": 4,
   "outputs": [],
   "source": [
    "import numpy as np\n",
    "import matplotlib.pyplot as plt\n",
    "import matplotlib\n",
    "import os"
   ],
   "metadata": {
    "collapsed": false,
    "ExecuteTime": {
     "end_time": "2023-09-10T19:03:20.477999363Z",
     "start_time": "2023-09-10T19:03:19.669066788Z"
    }
   },
   "id": "d78779513764dfaf"
  },
  {
   "cell_type": "code",
   "execution_count": 5,
   "outputs": [],
   "source": [
    "from Bio.Align.Applications import ClustalwCommandline\n",
    "from Bio import AlignIO\n",
    "from pathlib import Path\n",
    "import tempfile\n",
    "import plotly.graph_objects as go\n",
    "\n",
    "def perform_msa(folder_path: Path, output_file: Path):\n",
    "    # Check if the given path is a directory\n",
    "    if not folder_path.is_dir():\n",
    "        raise ValueError(f\"{folder_path} is not a directory\")\n",
    "\n",
    "    # Get all .fa and .fasta files in the directory\n",
    "    input_files = list(folder_path.glob('*.fa')) + list(folder_path.glob('*.fasta'))\n",
    "\n",
    "    # Create a temporary file to concatenate the sequences\n",
    "    with tempfile.NamedTemporaryFile(mode='w+', delete=False) as temp_file:\n",
    "        for file_path in input_files:\n",
    "            # Determine new sequence identifier based on file name\n",
    "            new_seq_id = \"MT_\" + file_path.stem.split(\".\")[0]\n",
    "\n",
    "            # Read and modify the content of the file before appending to the temporary file\n",
    "            with open(file_path, 'r') as f:\n",
    "                content = f.read()\n",
    "                content = content.replace(\">MT \", f\">{new_seq_id} \")\n",
    "                temp_file.write(content)\n",
    "                temp_file.write(\"\\n\")  # Just to ensure sequences are separated\n",
    "\n",
    "        temp_input_file = Path(temp_file.name)\n",
    "\n",
    "    # Setup the ClustalW command\n",
    "    clustalw_cline = ClustalwCommandline(\"clustalw2\", infile=temp_input_file, outfile=output_file)\n",
    "\n",
    "    # Run the command\n",
    "    stdout, stderr = clustalw_cline()\n",
    "\n",
    "    # Clean up the temporary file\n",
    "    temp_input_file.unlink()\n",
    "\n",
    "    return output_file"
   ],
   "metadata": {
    "collapsed": false,
    "ExecuteTime": {
     "end_time": "2023-09-10T19:03:20.543448723Z",
     "start_time": "2023-09-10T19:03:20.481145538Z"
    }
   },
   "id": "50ac05a5d553541c"
  },
  {
   "cell_type": "code",
   "execution_count": 6,
   "outputs": [],
   "source": [
    "folder_path = mammals\n",
    "# Output alignment file path\n",
    "output_file = Path(\"mammals_alignment.aln\")\n",
    "\n",
    "# Perform the MSA\n",
    "alignment_file = perform_msa(folder_path, output_file)"
   ],
   "metadata": {
    "collapsed": false,
    "ExecuteTime": {
     "end_time": "2023-09-10T19:04:02.697806001Z",
     "start_time": "2023-09-10T19:03:22.033735292Z"
    }
   },
   "id": "94654666eb71b871"
  },
  {
   "cell_type": "code",
   "execution_count": 7,
   "outputs": [
    {
     "name": "stdout",
     "output_type": "stream",
     "text": [
      "/home/antonkulaga/.config/matplotlib/mpl-data\n"
     ]
    }
   ],
   "source": [
    "data_path = os.path.join(matplotlib.get_configdir(), 'mpl-data')\n",
    "print(data_path)"
   ],
   "metadata": {
    "collapsed": false,
    "ExecuteTime": {
     "end_time": "2023-09-10T19:04:02.745143170Z",
     "start_time": "2023-09-10T19:04:02.742092387Z"
    }
   },
   "id": "f43a0186a9b75107"
  },
  {
   "cell_type": "code",
   "execution_count": 8,
   "outputs": [],
   "source": [
    "from Bio import AlignIO\n",
    "from collections import defaultdict\n",
    "from itertools import combinations\n",
    "\n",
    "def generate_alignment_statistics(alignment_file: str) -> dict:\n",
    "    # Load the alignment\n",
    "    alignment = AlignIO.read(alignment_file, \"clustal\")\n",
    "\n",
    "    # Prepare a dictionary to store results\n",
    "    stats = defaultdict(lambda: {'matches': 0, 'differences': 0})\n",
    "\n",
    "    # Iterate through each pair of sequences in the alignment\n",
    "    for record1, record2 in combinations(alignment, 2):\n",
    "        id1, id2 = record1.id, record2.id\n",
    "        for base1, base2 in zip(record1.seq, record2.seq):\n",
    "            # Ignore comparison for positions with gaps in either sequence\n",
    "            if base1 == \"-\" or base2 == \"-\":\n",
    "                continue\n",
    "            if base1 == base2:\n",
    "                stats[(id1, id2)]['matches'] += 1\n",
    "            else:\n",
    "                stats[(id1, id2)]['differences'] += 1\n",
    "\n",
    "    return stats"
   ],
   "metadata": {
    "collapsed": false,
    "ExecuteTime": {
     "end_time": "2023-09-10T19:04:02.756224097Z",
     "start_time": "2023-09-10T19:04:02.742614955Z"
    }
   },
   "id": "cea352235a01c9c"
  },
  {
   "cell_type": "code",
   "execution_count": 10,
   "outputs": [],
   "source": [
    "import polars as pl\n",
    "from Bio import pairwise2\n",
    "from Bio.SubsMat import MatrixInfo\n",
    "from typing import Tuple, List\n",
    "\n",
    "def calculate_pairwise_statistics(seq1: str, seq2: str) -> Tuple[int, int, int]:\n",
    "    alignments = pairwise2.align.globalds(seq1, seq2, MatrixInfo.blosum62, -10, -0.5)\n",
    "    align1, align2, score, begin, end = alignments[0]\n",
    "\n",
    "    substitutions, insertions, deletions = 0, 0, 0\n",
    "    for a, b in zip(align1, align2):\n",
    "        if a == '-' and b != '-':\n",
    "            insertions += 1\n",
    "        elif a != '-' and b == '-':\n",
    "            deletions += 1\n",
    "        elif a != b:\n",
    "            substitutions += 1\n",
    "\n",
    "    return substitutions, insertions, deletions\n",
    "\n",
    "def pairwise_statistics_for_genes(df: pl.DataFrame) -> pl.DataFrame:\n",
    "    sequence_columns = [col for col in df.columns if \"_sequence\" in col]\n",
    "    results = []\n",
    "\n",
    "    for row in df.rows():\n",
    "        gene_name = row[0]  # Assuming gene_name is the first column\n",
    "        sequences = row[1:]\n",
    "        for i in range(len(sequence_columns)):\n",
    "            for j in range(i+1, len(sequence_columns)):\n",
    "                seq_i = sequences[i]\n",
    "                seq_j = sequences[j]\n",
    "\n",
    "                subs, ins, dels = calculate_pairwise_statistics(seq_i, seq_j)\n",
    "                results.append({\n",
    "                    \"gene_name\": gene_name,\n",
    "                    \"pair\": f\"{sequence_columns[i].split('_')[0]}_vs_{sequence_columns[j].split('_')[0]}\",\n",
    "                    \"substitutions\": subs,\n",
    "                    \"insertions\": ins,\n",
    "                    \"deletions\": dels\n",
    "                })\n",
    "\n",
    "    return pl.DataFrame(results)"
   ],
   "metadata": {
    "collapsed": false,
    "ExecuteTime": {
     "end_time": "2023-09-10T19:19:56.721608412Z",
     "start_time": "2023-09-10T19:19:56.678796730Z"
    }
   },
   "id": "2e41ab53e1c0ab"
  }
 ],
 "metadata": {
  "kernelspec": {
   "display_name": "Python 3",
   "language": "python",
   "name": "python3"
  },
  "language_info": {
   "codemirror_mode": {
    "name": "ipython",
    "version": 2
   },
   "file_extension": ".py",
   "mimetype": "text/x-python",
   "name": "python",
   "nbconvert_exporter": "python",
   "pygments_lexer": "ipython2",
   "version": "2.7.6"
  }
 },
 "nbformat": 4,
 "nbformat_minor": 5
}
